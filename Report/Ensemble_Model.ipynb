{
 "cells": [
  {
   "cell_type": "code",
   "execution_count": null,
   "metadata": {
    "collapsed": true
   },
   "outputs": [],
   "source": [
    "import os\n",
    "import torch\n",
    "import torchvision\n",
    "import torchvision.transforms as transforms\n",
    "from torchvision.datasets import ImageFolder\n",
    "from torch.utils.data import DataLoader, random_split\n",
    "from torchvision.models import vgg16, resnet50\n",
    "\n",
    "import torch.optim as optim\n",
    "from torch.optim.lr_scheduler import StepLR\n",
    "from tqdm import tqdm"
   ]
  },
  {
   "cell_type": "code",
   "execution_count": null,
   "outputs": [],
   "source": [
    "device = torch.device('cuda' if torch.cuda.is_available() else 'cpu')\n",
    "torch.cuda.empty_cache()\n",
    "\n",
    "transform = transforms.Compose([\n",
    "    transforms.Resize((512, 512)),\n",
    "    transforms.RandomHorizontalFlip(),\n",
    "    transforms.ToTensor(),\n",
    "    transforms.Normalize(mean=[0.485, 0.456, 0.406], std=[0.229, 0.224, 0.225]),\n",
    "])\n",
    "\n",
    "test_dataset = ImageFolder(root='Data/Testing', transform=transform)\n",
    "test_loader = DataLoader(test_dataset, batch_size=32, shuffle=False, num_workers=4)\n",
    "num_classes = len(os.listdir('Data/Testing'))\n",
    "\n",
    "vgg16_model = vgg16()\n",
    "vgg16_model.classifier[6] = torch.nn.Linear(in_features=4096, out_features=num_classes)\n",
    "vgg16_model.load_state_dict(torch.load('Models/best_VGG16_model.pth'))\n",
    "vgg16_model.to(device)\n",
    "\n",
    "resnet50_model = resnet50(pretrained=True)\n",
    "resnet50_model.fc = torch.nn.Linear(in_features=2048, out_features=num_classes)\n",
    "resnet50_model.load_state_dict(torch.load('Models/best_ResNet50_model.pth'))\n",
    "resnet50_model.to(device)\n",
    "\n",
    "\n",
    "def calculate_ensemble_accuracy(loader, model1, model2, device):\n",
    "    correct = 0\n",
    "    total = 0\n",
    "    model1.eval()\n",
    "    model2.eval()\n",
    "\n",
    "    with torch.no_grad():\n",
    "        for inputs, targets in loader:\n",
    "            inputs, targets = inputs.to(device), targets.to(device)\n",
    "\n",
    "            outputs1 = model1(inputs)\n",
    "            outputs2 = model2(inputs)\n",
    "            ensemble_outputs = (outputs1 + outputs2) / 2\n",
    "\n",
    "            _, predicted = torch.max(ensemble_outputs.data, 1)\n",
    "            total += targets.size(0)\n",
    "            correct += (predicted == targets).sum().item()\n",
    "\n",
    "    accuracy = 100 * correct / total\n",
    "    return accuracy\n",
    "\n",
    "# 3. Run the modified accuracy function on the test dataset\n",
    "test_accuracy = calculate_ensemble_accuracy(test_loader, vgg16_model, resnet50_model, device)\n",
    "print(f\"Ensemble Test Accuracy: {test_accuracy:.2f}%\")\n"
   ],
   "metadata": {
    "collapsed": false
   }
  }
 ],
 "metadata": {
  "kernelspec": {
   "display_name": "Python 3",
   "language": "python",
   "name": "python3"
  },
  "language_info": {
   "codemirror_mode": {
    "name": "ipython",
    "version": 2
   },
   "file_extension": ".py",
   "mimetype": "text/x-python",
   "name": "python",
   "nbconvert_exporter": "python",
   "pygments_lexer": "ipython2",
   "version": "2.7.6"
  }
 },
 "nbformat": 4,
 "nbformat_minor": 0
}
