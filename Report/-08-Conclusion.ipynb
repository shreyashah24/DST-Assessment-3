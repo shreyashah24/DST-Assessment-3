{
 "cells": [
  {
   "cell_type": "markdown",
   "source": [
    "# Conclusion"
   ],
   "metadata": {
    "collapsed": false
   }
  },
  {
   "cell_type": "markdown",
   "source": [
    "## Problems with the dataset"
   ],
   "metadata": {
    "collapsed": false
   }
  },
  {
   "cell_type": "markdown",
   "source": [
    "A serious issue with our models arises when thinking about how we might apply our models in the real world. Fundamentally, the setup of our dataset does not allow us to make our models come close to reflecting a real implementation in medical imaging."
   ],
   "metadata": {
    "collapsed": false
   }
  },
  {
   "cell_type": "markdown",
   "source": [
    "We think about how we might collect brain scan MRI images in a hospital:\n",
    "* A full MRI patient brain scan is taken. An MRI brain scan would usually consist of several dozen images, taken at varying depths of the brain to paint a full 3d image.\n",
    "* Each of these images will have labels for their axis and depth.\n",
    "\n",
    "For our dataset, we have single images with no information about if they could be from the same patient, we are therefore under the assumption that all images are independent. Consequently, we only input one image into our nodel which is almost useless - the tumor may not be in this single image of the MRI, we are unable to use multiple images to give much more powerful predictive power by being able to identify the size of the potential tumor.\n",
    "\n",
    "Ideally, we would want a fully labelled set of the complete MRI scan, with angle and layer, which can be processed together as a tensor with a 3d filter to perform convolutions in three dimensions rather than two. This would hugely change the neural network used in our project."
   ],
   "metadata": {
    "collapsed": false
   }
  },
  {
   "cell_type": "markdown",
   "source": [
    "## Model Performance"
   ],
   "metadata": {
    "collapsed": false
   }
  },
  {
   "cell_type": "markdown",
   "source": [
    "We find that the ResNet-50 Model performs very well for this task. It is advantageous for us to be able to use such a strong pretrained image classifier in our case because it allows us to have a very deep neural network capable and trained to classify deeply complex classes of image.\n",
    "\n",
    "....."
   ],
   "metadata": {
    "collapsed": false
   }
  },
  {
   "cell_type": "markdown",
   "source": [
    "# Future Work"
   ],
   "metadata": {
    "collapsed": false
   }
  },
  {
   "cell_type": "markdown",
   "source": [
    "We would wish to find a dataset which better represents how this problem would be solved in the real world. This would enable us to link together multiple images from the same patient, scanning the full brain for tumor detection. This might involve implementing three-dimensional convolutional layers to our network.\n",
    "\n",
    "We may want to also have data about other features with the brain scans, such as sex or age. Brains can look very different depending on these factors, and it would be something that a human looking at the scans will consider. Brain tumors can present differently in different age groups and certain types of tumors may be more common in children, while others are more frequently found in older adults."
   ],
   "metadata": {
    "collapsed": false
   }
  },
  {
   "cell_type": "code",
   "execution_count": null,
   "outputs": [],
   "source": [],
   "metadata": {
    "collapsed": false
   }
  }
 ],
 "metadata": {
  "kernelspec": {
   "display_name": "Python 3",
   "language": "python",
   "name": "python3"
  },
  "language_info": {
   "codemirror_mode": {
    "name": "ipython",
    "version": 2
   },
   "file_extension": ".py",
   "mimetype": "text/x-python",
   "name": "python",
   "nbconvert_exporter": "python",
   "pygments_lexer": "ipython2",
   "version": "2.7.6"
  }
 },
 "nbformat": 4,
 "nbformat_minor": 0
}
