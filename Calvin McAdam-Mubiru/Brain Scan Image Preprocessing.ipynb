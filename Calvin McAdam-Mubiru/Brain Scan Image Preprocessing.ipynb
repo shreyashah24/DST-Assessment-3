{
 "cells": [
  {
   "cell_type": "code",
   "execution_count": 1,
   "id": "2bc88987",
   "metadata": {},
   "outputs": [],
   "source": [
    "import tensorflow as tf\n",
    "import os\n",
    "import cv2\n",
    "import copy\n",
    "from tqdm import tqdm\n",
    "import time\n",
    "from math import sqrt\n",
    "from skimage import io \n",
    "from PIL import Image, ImageFilter\n",
    "import random\n",
    "import numpy as np\n",
    "from keras.preprocessing.image import ImageDataGenerator \n",
    "import matplotlib.pyplot as plt\n",
    "%matplotlib inline"
   ]
  },
  {
   "cell_type": "code",
   "execution_count": 2,
   "id": "aa094c63",
   "metadata": {},
   "outputs": [],
   "source": [
    "import torchvision\n",
    "import torchvision.transforms as transforms\n",
    "import torch"
   ]
  },
  {
   "cell_type": "code",
   "execution_count": 3,
   "id": "11092003",
   "metadata": {},
   "outputs": [],
   "source": [
    "# Importing and Loading the data into a data frame\n",
    "dataset_path_train = 'C:/Users/Calvi/Documents/Uni/Tumor/Training/'\n",
    "class_names = ['glioma', 'meningioma', 'notumor', 'pituitary']"
   ]
  },
  {
   "cell_type": "code",
   "execution_count": 4,
   "id": "01ec32d1",
   "metadata": {},
   "outputs": [],
   "source": [
    "def batch_generator(n,batch_size):\n",
    "    return [[i for i in range(0,n)[j:j+batch_size]] for j in range(0,n,batch_size)]"
   ]
  },
  {
   "cell_type": "code",
   "execution_count": 5,
   "id": "2994cf28",
   "metadata": {},
   "outputs": [],
   "source": [
    "batch_size = 55"
   ]
  },
  {
   "cell_type": "code",
   "execution_count": 6,
   "id": "a80058a1",
   "metadata": {},
   "outputs": [
    {
     "name": "stderr",
     "output_type": "stream",
     "text": [
      "100%|████████████████████████████████████████████████████████████████████████████████████| 4/4 [00:01<00:00,  2.10it/s]\n"
     ]
    }
   ],
   "source": [
    "## Importing training\n",
    "training = {}\n",
    "for i in tqdm(range(len(class_names))):\n",
    "    tumor_path_train = os.path.join(dataset_path_train, class_names[i])\n",
    "    training[class_names[i]+'_train'] = [Image.open(os.path.join(tumor_path_train, image)) for image in os.listdir(tumor_path_train)]"
   ]
  },
  {
   "cell_type": "markdown",
   "id": "094298ba",
   "metadata": {},
   "source": [
    "### To Tensor"
   ]
  },
  {
   "cell_type": "code",
   "execution_count": 7,
   "id": "19df22a1",
   "metadata": {},
   "outputs": [
    {
     "name": "stderr",
     "output_type": "stream",
     "text": [
      " 25%|█████████████████████                                                               | 1/4 [00:03<00:10,  3.50s/it]"
     ]
    },
    {
     "name": "stdout",
     "output_type": "stream",
     "text": [
      "glioma  processing done!\n"
     ]
    },
    {
     "name": "stderr",
     "output_type": "stream",
     "text": [
      " 50%|██████████████████████████████████████████                                          | 2/4 [00:10<00:10,  5.35s/it]"
     ]
    },
    {
     "name": "stdout",
     "output_type": "stream",
     "text": [
      "meningioma  processing done!\n"
     ]
    },
    {
     "name": "stderr",
     "output_type": "stream",
     "text": [
      " 75%|███████████████████████████████████████████████████████████████                     | 3/4 [00:15<00:05,  5.48s/it]"
     ]
    },
    {
     "name": "stdout",
     "output_type": "stream",
     "text": [
      "notumor  processing done!\n"
     ]
    },
    {
     "name": "stderr",
     "output_type": "stream",
     "text": [
      "100%|████████████████████████████████████████████████████████████████████████████████████| 4/4 [00:23<00:00,  5.90s/it]"
     ]
    },
    {
     "name": "stdout",
     "output_type": "stream",
     "text": [
      "pituitary  processing done!\n"
     ]
    },
    {
     "name": "stderr",
     "output_type": "stream",
     "text": [
      "\n"
     ]
    }
   ],
   "source": [
    "to_tensor = torchvision.transforms.Compose([transforms.PILToTensor()])\n",
    "for i in tqdm(range(len(class_names))):\n",
    "    n = len(training[class_names[i]+'_train'])\n",
    "    for batch in batch_generator(n, batch_size):\n",
    "        for j in batch:\n",
    "            training[class_names[i]+'_train'][j] = to_tensor(training[class_names[i]+'_train'][j])\n",
    "    print(class_names[i],\" processing done!\")"
   ]
  },
  {
   "cell_type": "markdown",
   "id": "ed552202",
   "metadata": {},
   "source": [
    "### 2D to 3D"
   ]
  },
  {
   "cell_type": "code",
   "execution_count": 8,
   "id": "eae89b28",
   "metadata": {},
   "outputs": [
    {
     "name": "stderr",
     "output_type": "stream",
     "text": [
      " 25%|█████████████████████                                                               | 1/4 [00:00<00:00,  4.86it/s]"
     ]
    },
    {
     "name": "stdout",
     "output_type": "stream",
     "text": [
      "glioma  processing done!\n"
     ]
    },
    {
     "name": "stderr",
     "output_type": "stream",
     "text": [
      " 50%|██████████████████████████████████████████                                          | 2/4 [00:00<00:00,  3.48it/s]"
     ]
    },
    {
     "name": "stdout",
     "output_type": "stream",
     "text": [
      "meningioma  processing done!\n"
     ]
    },
    {
     "name": "stderr",
     "output_type": "stream",
     "text": [
      " 75%|███████████████████████████████████████████████████████████████                     | 3/4 [00:00<00:00,  3.39it/s]"
     ]
    },
    {
     "name": "stdout",
     "output_type": "stream",
     "text": [
      "notumor  processing done!\n"
     ]
    },
    {
     "name": "stderr",
     "output_type": "stream",
     "text": [
      "100%|████████████████████████████████████████████████████████████████████████████████████| 4/4 [00:01<00:00,  3.62it/s]"
     ]
    },
    {
     "name": "stdout",
     "output_type": "stream",
     "text": [
      "pituitary  processing done!\n"
     ]
    },
    {
     "name": "stderr",
     "output_type": "stream",
     "text": [
      "\n"
     ]
    }
   ],
   "source": [
    "for i in tqdm(range(len(class_names))):\n",
    "    n = len(training[class_names[i]+'_train'])\n",
    "    for batch in batch_generator(n, batch_size):\n",
    "        for j in batch:\n",
    "            if len(np.array(training[class_names[i]+'_train'][j]).shape)==2:\n",
    "                training[class_names[i]+'_train'][j] = cv2.cvtColor(training[class_names[i]+'_train'][j],cv2.COLOR_GRAY2RGB)\n",
    "    print(class_names[i],\" processing done!\")"
   ]
  },
  {
   "cell_type": "markdown",
   "id": "35b8bd5a",
   "metadata": {},
   "source": [
    "### Resize"
   ]
  },
  {
   "cell_type": "code",
   "execution_count": 9,
   "id": "942fd6ce",
   "metadata": {},
   "outputs": [],
   "source": [
    "x = 0\n",
    "y = 0\n",
    "n = 0\n",
    "for i in range(len(class_names)):\n",
    "    for j in range(len(training[class_names[i]+'_train'])):\n",
    "        x += training[class_names[i]+'_train'][j].shape[0]\n",
    "        y += training[class_names[i]+'_train'][j].shape[1]\n",
    "        n += 1\n",
    "av_height = int(y/n)\n",
    "av_width = int(x/n)\n",
    "av = int((av_height+av_width)/2)\n",
    "hav = int(sqrt((av**2)/2))"
   ]
  },
  {
   "cell_type": "code",
   "execution_count": 10,
   "id": "742c402a",
   "metadata": {},
   "outputs": [
    {
     "name": "stderr",
     "output_type": "stream",
     "text": [
      " 25%|█████████████████████                                                               | 1/4 [00:06<00:18,  6.25s/it]"
     ]
    },
    {
     "name": "stdout",
     "output_type": "stream",
     "text": [
      "glioma  processing done!\n"
     ]
    },
    {
     "name": "stderr",
     "output_type": "stream",
     "text": [
      " 50%|██████████████████████████████████████████                                          | 2/4 [00:15<00:15,  7.99s/it]"
     ]
    },
    {
     "name": "stdout",
     "output_type": "stream",
     "text": [
      "meningioma  processing done!\n"
     ]
    },
    {
     "name": "stderr",
     "output_type": "stream",
     "text": [
      " 75%|███████████████████████████████████████████████████████████████                     | 3/4 [00:27<00:09,  9.88s/it]"
     ]
    },
    {
     "name": "stdout",
     "output_type": "stream",
     "text": [
      "notumor  processing done!\n"
     ]
    },
    {
     "name": "stderr",
     "output_type": "stream",
     "text": [
      "100%|████████████████████████████████████████████████████████████████████████████████████| 4/4 [00:37<00:00,  9.47s/it]"
     ]
    },
    {
     "name": "stdout",
     "output_type": "stream",
     "text": [
      "pituitary  processing done!\n"
     ]
    },
    {
     "name": "stderr",
     "output_type": "stream",
     "text": [
      "\n"
     ]
    }
   ],
   "source": [
    "resize = torchvision.transforms.Compose([torchvision.transforms.Resize((av,av))])\n",
    "for i in tqdm(range(len(class_names))):\n",
    "    n = len(training[class_names[i]+'_train'])\n",
    "    for batch in batch_generator(n, batch_size):\n",
    "        for j in batch:\n",
    "            training[class_names[i]+'_train'][j] = resize(training[class_names[i]+'_train'][j])\n",
    "    print(class_names[i],\" processing done!\")"
   ]
  },
  {
   "cell_type": "markdown",
   "id": "e43a9a90",
   "metadata": {},
   "source": [
    "## Augmented"
   ]
  },
  {
   "cell_type": "code",
   "execution_count": 13,
   "id": "f776c738",
   "metadata": {},
   "outputs": [],
   "source": [
    "new_training = copy.deepcopy(training)"
   ]
  },
  {
   "cell_type": "code",
   "execution_count": 14,
   "id": "14b81151",
   "metadata": {},
   "outputs": [],
   "source": [
    "to_im = torchvision.transforms.ToPILImage()\n",
    "horizontal_flip = torchvision.transforms.RandomHorizontalFlip(p=1)\n",
    "blur = torchvision.transforms.GaussianBlur(101, sigma=(0.1, 2.0))\n",
    "ran_crop = torchvision.transforms.RandomCrop((hav,hav))\n",
    "rotation = torchvision.transforms.RandomRotation(degrees=(90))"
   ]
  },
  {
   "cell_type": "markdown",
   "id": "fe8ffd0e",
   "metadata": {},
   "source": [
    "### Random Crop"
   ]
  },
  {
   "cell_type": "code",
   "execution_count": 15,
   "id": "79ef1794",
   "metadata": {},
   "outputs": [],
   "source": [
    "def random_crop(image):\n",
    "    cropped_image = ran_crop(image)\n",
    "    resized = resize(cropped_image)\n",
    "    resized_image_pil = to_im(resized)\n",
    "    return resized_image_pil"
   ]
  },
  {
   "cell_type": "code",
   "execution_count": 16,
   "id": "fc140d48",
   "metadata": {},
   "outputs": [
    {
     "name": "stderr",
     "output_type": "stream",
     "text": [
      " 25%|█████████████████████                                                               | 1/4 [00:05<00:17,  5.77s/it]"
     ]
    },
    {
     "name": "stdout",
     "output_type": "stream",
     "text": [
      "glioma  processing done!\n"
     ]
    },
    {
     "name": "stderr",
     "output_type": "stream",
     "text": [
      " 50%|██████████████████████████████████████████                                          | 2/4 [00:14<00:14,  7.42s/it]"
     ]
    },
    {
     "name": "stdout",
     "output_type": "stream",
     "text": [
      "meningioma  processing done!\n"
     ]
    },
    {
     "name": "stderr",
     "output_type": "stream",
     "text": [
      " 75%|███████████████████████████████████████████████████████████████                     | 3/4 [00:27<00:09,  9.85s/it]"
     ]
    },
    {
     "name": "stdout",
     "output_type": "stream",
     "text": [
      "notumor  processing done!\n"
     ]
    },
    {
     "name": "stderr",
     "output_type": "stream",
     "text": [
      "100%|████████████████████████████████████████████████████████████████████████████████████| 4/4 [00:36<00:00,  9.07s/it]"
     ]
    },
    {
     "name": "stdout",
     "output_type": "stream",
     "text": [
      "pituitary  processing done!\n"
     ]
    },
    {
     "name": "stderr",
     "output_type": "stream",
     "text": [
      "\n"
     ]
    }
   ],
   "source": [
    "for i in tqdm(range(len(class_names))):\n",
    "    n = len(new_training[class_names[i]+'_train'])\n",
    "    for batch in batch_generator(n, batch_size):\n",
    "        for j in batch:\n",
    "            result = random_crop(new_training[class_names[i]+'_train'][j])\n",
    "            new_training[class_names[i]+'_train'].append(result)\n",
    "    print(class_names[i],\" processing done!\")\n",
    "   "
   ]
  },
  {
   "cell_type": "markdown",
   "id": "9739563a",
   "metadata": {},
   "source": [
    "### Rotating"
   ]
  },
  {
   "cell_type": "code",
   "execution_count": 19,
   "id": "a6364e50",
   "metadata": {},
   "outputs": [
    {
     "name": "stderr",
     "output_type": "stream",
     "text": [
      " 25%|█████████████████████                                                               | 1/4 [00:00<00:02,  1.21it/s]"
     ]
    },
    {
     "name": "stdout",
     "output_type": "stream",
     "text": [
      "glioma  processing done!\n"
     ]
    },
    {
     "name": "stderr",
     "output_type": "stream",
     "text": [
      " 50%|██████████████████████████████████████████                                          | 2/4 [00:01<00:01,  1.24it/s]"
     ]
    },
    {
     "name": "stdout",
     "output_type": "stream",
     "text": [
      "meningioma  processing done!\n"
     ]
    },
    {
     "name": "stderr",
     "output_type": "stream",
     "text": [
      " 75%|███████████████████████████████████████████████████████████████                     | 3/4 [00:02<00:00,  1.25it/s]"
     ]
    },
    {
     "name": "stdout",
     "output_type": "stream",
     "text": [
      "notumor  processing done!\n"
     ]
    },
    {
     "name": "stderr",
     "output_type": "stream",
     "text": [
      "100%|████████████████████████████████████████████████████████████████████████████████████| 4/4 [00:03<00:00,  1.23it/s]"
     ]
    },
    {
     "name": "stdout",
     "output_type": "stream",
     "text": [
      "pituitary  processing done!\n"
     ]
    },
    {
     "name": "stderr",
     "output_type": "stream",
     "text": [
      "\n"
     ]
    }
   ],
   "source": [
    "for i in tqdm(range(len(class_names))):\n",
    "    for j in batch_generator(len(training[class_names[i]+'_train']), batch_size)[0]:\n",
    "        data = training[class_names[i]+'_train'][j]\n",
    "        result = rotation(data)\n",
    "        new_training[class_names[i]+'_train'].append(result)\n",
    "    print(class_names[i],\" processing done!\")"
   ]
  },
  {
   "cell_type": "code",
   "execution_count": 20,
   "id": "b965a44a",
   "metadata": {},
   "outputs": [
    {
     "name": "stderr",
     "output_type": "stream",
     "text": [
      "100%|███████████████████████████████████████████████████████████████████████████████████| 4/4 [00:00<00:00, 432.20it/s]\n"
     ]
    }
   ],
   "source": [
    "for i in tqdm(range(len(class_names))):\n",
    "    for batch in batch_generator(len(training[class_names[i]+'_train']), batch_size):\n",
    "        for j in batch:\n",
    "            if type(training[class_names[i]+'_train'][j])==torch.Tensor:\n",
    "                continue\n",
    "            else:\n",
    "                print([i,j,type(training[class_names[i]+'_train'][j])])"
   ]
  },
  {
   "cell_type": "markdown",
   "id": "887fae6f",
   "metadata": {},
   "source": [
    "### Training to Images"
   ]
  },
  {
   "cell_type": "code",
   "execution_count": 21,
   "id": "eca9eb02",
   "metadata": {},
   "outputs": [
    {
     "name": "stderr",
     "output_type": "stream",
     "text": [
      "100%|████████████████████████████████████████████████████████████████████████████████████| 4/4 [00:08<00:00,  2.02s/it]\n"
     ]
    }
   ],
   "source": [
    "for i in tqdm(range(len(class_names))):\n",
    "    for batch in batch_generator(len(training[class_names[i]+'_train']), batch_size):\n",
    "        for j in batch:\n",
    "            training[class_names[i]+'_train'][j]=to_im(training[class_names[i]+'_train'][j])"
   ]
  },
  {
   "cell_type": "markdown",
   "id": "53d30e04",
   "metadata": {},
   "source": [
    "### Flipping"
   ]
  },
  {
   "cell_type": "code",
   "execution_count": 22,
   "id": "0c16952c",
   "metadata": {},
   "outputs": [
    {
     "name": "stderr",
     "output_type": "stream",
     "text": [
      " 25%|█████████████████████                                                               | 1/4 [00:00<00:00,  3.41it/s]"
     ]
    },
    {
     "name": "stdout",
     "output_type": "stream",
     "text": [
      "glioma  processing done!\n"
     ]
    },
    {
     "name": "stderr",
     "output_type": "stream",
     "text": [
      " 50%|██████████████████████████████████████████                                          | 2/4 [00:00<00:00,  2.81it/s]"
     ]
    },
    {
     "name": "stdout",
     "output_type": "stream",
     "text": [
      "meningioma  processing done!\n"
     ]
    },
    {
     "name": "stderr",
     "output_type": "stream",
     "text": [
      " 75%|███████████████████████████████████████████████████████████████                     | 3/4 [00:01<00:00,  2.11it/s]"
     ]
    },
    {
     "name": "stdout",
     "output_type": "stream",
     "text": [
      "notumor  processing done!\n"
     ]
    },
    {
     "name": "stderr",
     "output_type": "stream",
     "text": [
      "100%|████████████████████████████████████████████████████████████████████████████████████| 4/4 [00:01<00:00,  2.23it/s]"
     ]
    },
    {
     "name": "stdout",
     "output_type": "stream",
     "text": [
      "pituitary  processing done!\n"
     ]
    },
    {
     "name": "stderr",
     "output_type": "stream",
     "text": [
      "\n"
     ]
    }
   ],
   "source": [
    "for i in tqdm(range(len(class_names))):\n",
    "    for batch in batch_generator(len(training[class_names[i]+'_train']), batch_size):\n",
    "        for j in batch:\n",
    "            data = training[class_names[i]+'_train'][j]\n",
    "            r1 = horizontal_flip(data)\n",
    "            new_training[class_names[i]+'_train'].append(r1)\n",
    "    print(class_names[i],\" processing done!\")   "
   ]
  },
  {
   "cell_type": "markdown",
   "id": "c284db6e",
   "metadata": {},
   "source": [
    "### Blur"
   ]
  },
  {
   "cell_type": "code",
   "execution_count": 23,
   "id": "c6cb99f8",
   "metadata": {},
   "outputs": [
    {
     "name": "stderr",
     "output_type": "stream",
     "text": [
      "100%|███████████████████████████████████████████████████████████████████████████████████| 4/4 [37:03<00:00, 555.95s/it]\n"
     ]
    }
   ],
   "source": [
    "for i in tqdm(range(len(class_names))):\n",
    "    for batch in batch_generator(len(training[class_names[i]+'_train']), batch_size):\n",
    "        for j in batch:\n",
    "            blurred_im = blur(training[class_names[i]+'_train'][j])\n",
    "            new_training[class_names[i]+'_train'].append(blurred_im)"
   ]
  },
  {
   "cell_type": "markdown",
   "id": "c3c4da91",
   "metadata": {},
   "source": [
    "### Augmented Data to Images"
   ]
  },
  {
   "cell_type": "code",
   "execution_count": 25,
   "id": "710866c0",
   "metadata": {},
   "outputs": [
    {
     "name": "stderr",
     "output_type": "stream",
     "text": [
      "100%|████████████████████████████████████████████████████████████████████████████████████| 4/4 [00:14<00:00,  3.67s/it]\n"
     ]
    }
   ],
   "source": [
    "for i in tqdm(range(len(class_names))):\n",
    "    for batch in batch_generator(len(new_training[class_names[i]+'_train']), batch_size):\n",
    "        for j in batch:\n",
    "            if type(new_training[class_names[i]+'_train'][j]) == Image.Image:\n",
    "                continue\n",
    "            else:\n",
    "                new_training[class_names[i]+'_train'][j]=to_im(new_training[class_names[i]+'_train'][j])"
   ]
  },
  {
   "cell_type": "markdown",
   "id": "921e9c49",
   "metadata": {},
   "source": [
    "## Exporting "
   ]
  },
  {
   "cell_type": "code",
   "execution_count": 45,
   "id": "aae515ab",
   "metadata": {},
   "outputs": [],
   "source": [
    "## Training data\n",
    "train_path = 'C:/Users/Calvi/Documents/Preprocessed Tumor/Training/'\n",
    "for i in range(len(class_names)):\n",
    "    for j in range(len(new_training[class_names[i]+'_train'])):\n",
    "        image_path = train_path+class_names[i]\n",
    "        new_training[class_names[i]+'_train'][j].convert('RGB').save(f'{image_path}/'+str(j)+'.jpg')"
   ]
  }
 ],
 "metadata": {
  "kernelspec": {
   "display_name": "Python 3 (ipykernel)",
   "language": "python",
   "name": "python3"
  },
  "language_info": {
   "codemirror_mode": {
    "name": "ipython",
    "version": 3
   },
   "file_extension": ".py",
   "mimetype": "text/x-python",
   "name": "python",
   "nbconvert_exporter": "python",
   "pygments_lexer": "ipython3",
   "version": "3.9.7"
  }
 },
 "nbformat": 4,
 "nbformat_minor": 5
}
